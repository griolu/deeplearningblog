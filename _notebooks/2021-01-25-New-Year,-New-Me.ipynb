{
  "nbformat": 4,
  "nbformat_minor": 0,
  "metadata": {
    "colab": {
      "name": "2021-01-25-New-Year,-New-Me.ipynb",
      "provenance": [],
      "collapsed_sections": []
    },
    "kernelspec": {
      "name": "python3",
      "display_name": "Python 3"
    }
  },
  "cells": [
    {
      "cell_type": "markdown",
      "metadata": {
        "id": "VDSp0XjkyK6l"
      },
      "source": [
        "# Hey there!\r\n",
        "## Introduction\r\n",
        "Hi, I'm Geon and this blog is where I'll be posting my progress with deep learning. I've delayed continuing on with fast.ai until the new year (and new semester). As of January 25, 2021, I finished my second-last semester of high school and am starting my last semester on February 2, 2021. In the second semester, I'll be more free and have more time to work on this blog. I'm free of English and I'll have a pretty nice schedule: a spare period, Chemistry, Math, and Physics. \r\n",
        "\r\n",
        "## What to expect\r\n",
        "I'm going to be uploading my progress of learning deep learning with fast.ai. So, I'll be using fastpages and Google Colaboratory to make these posts. I'll accompany the code with text to make it easy to understand. This section is broad because I'm not too sure yet of what I'll be making. Expect to see a new blog post every week or two on Saturday or Sunday.\r\n",
        "\r\n",
        "## Where to contact me (not that I check them often)\r\n",
        "Twitter: @griolu\r\n",
        "\r\n",
        "Instagram: @geon_youn"
      ]
    }
  ]
}